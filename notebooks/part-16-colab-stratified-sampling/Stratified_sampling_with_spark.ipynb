{
  "nbformat": 4,
  "nbformat_minor": 0,
  "metadata": {
    "colab": {
      "provenance": []
    },
    "kernelspec": {
      "name": "python3",
      "display_name": "Python 3"
    },
    "language_info": {
      "name": "python"
    }
  },
  "cells": [
    {
      "cell_type": "markdown",
      "source": [
        "# An exercise in stratified sampling with Spark\n",
        "\n",
        "Stratified sampling is a way to reduce a dataset while keeping the distribution of certain characteristics similar to the original.\n",
        "\n",
        "For example, if we have a very large dataset we may want to make it smaller to make processing and experimenting with it easier.\n",
        "\n",
        "- We could take a random sample, but this will probably mean the distribution of the data will not match the original.\n",
        "    - Perhaps the original data was skewed toward a certain age group and gender in which case random sampling may change the shape of the data\n",
        "\n",
        "With stratified sampling, the aim is to keep the proportions similar to the original.\n",
        "\n",
        "The wikipedia page has a good example which I try to recreate below.\n",
        "- https://en.wikipedia.org/wiki/Stratified_sampling\n",
        "- https://spark.apache.org/docs/3.5.1/mllib-statistics.html#stratified-sampling"
      ],
      "metadata": {
        "id": "wWXZawaouSim"
      }
    },
    {
      "cell_type": "markdown",
      "source": [
        "## Set up spark"
      ],
      "metadata": {
        "id": "rJiPy8anuD7Q"
      }
    },
    {
      "cell_type": "code",
      "execution_count": null,
      "metadata": {
        "colab": {
          "base_uri": "https://localhost:8080/"
        },
        "id": "awyqNXxbtxut",
        "outputId": "aea4447d-c59d-4d5a-ff24-ddf3160b677a"
      },
      "outputs": [
        {
          "output_type": "stream",
          "name": "stdout",
          "text": [
            "\u001b[33m\r0% [Working]\u001b[0m\r            \rGet:1 https://cloud.r-project.org/bin/linux/ubuntu jammy-cran40/ InRelease [3,626 B]\n",
            "\u001b[33m\r0% [Connecting to archive.ubuntu.com (185.125.190.36)] [Waiting for headers] [1\u001b[0m\r                                                                               \rGet:2 http://security.ubuntu.com/ubuntu jammy-security InRelease [110 kB]\n",
            "\u001b[33m\r0% [Connecting to archive.ubuntu.com (185.125.190.36)] [2 InRelease 14.2 kB/110\u001b[0m\u001b[33m\r0% [Connecting to archive.ubuntu.com (185.125.190.36)] [2 InRelease 14.2 kB/110\u001b[0m\r                                                                               \rHit:3 https://developer.download.nvidia.com/compute/cuda/repos/ubuntu2204/x86_64  InRelease\n",
            "Hit:4 http://archive.ubuntu.com/ubuntu jammy InRelease\n",
            "Get:5 http://archive.ubuntu.com/ubuntu jammy-updates InRelease [119 kB]\n",
            "Hit:6 https://ppa.launchpadcontent.net/c2d4u.team/c2d4u4.0+/ubuntu jammy InRelease\n",
            "Hit:7 https://ppa.launchpadcontent.net/deadsnakes/ppa/ubuntu jammy InRelease\n",
            "Hit:8 http://archive.ubuntu.com/ubuntu jammy-backports InRelease\n",
            "Hit:9 https://ppa.launchpadcontent.net/graphics-drivers/ppa/ubuntu jammy InRelease\n",
            "Hit:10 https://ppa.launchpadcontent.net/ubuntugis/ppa/ubuntu jammy InRelease\n",
            "Get:11 http://archive.ubuntu.com/ubuntu jammy-updates/universe amd64 Packages [1,375 kB]\n",
            "Get:12 http://archive.ubuntu.com/ubuntu jammy-updates/main amd64 Packages [2,125 kB]\n",
            "Fetched 3,733 kB in 2s (1,979 kB/s)\n",
            "Reading package lists... Done\n",
            "Building dependency tree... Done\n",
            "Reading state information... Done\n",
            "45 packages can be upgraded. Run 'apt list --upgradable' to see them.\n",
            "tar: spark-3.2.1-bin-hadoop3.2.tgz: Cannot open: No such file or directory\n",
            "tar: Error is not recoverable: exiting now\n",
            "Collecting pyspark\n",
            "  Downloading pyspark-3.5.1.tar.gz (317.0 MB)\n",
            "\u001b[2K     \u001b[90m━━━━━━━━━━━━━━━━━━━━━━━━━━━━━━━━━━━━━━━━\u001b[0m \u001b[32m317.0/317.0 MB\u001b[0m \u001b[31m2.5 MB/s\u001b[0m eta \u001b[36m0:00:00\u001b[0m\n",
            "\u001b[?25h  Preparing metadata (setup.py) ... \u001b[?25l\u001b[?25hdone\n",
            "Requirement already satisfied: py4j==0.10.9.7 in /usr/local/lib/python3.10/dist-packages (from pyspark) (0.10.9.7)\n",
            "Building wheels for collected packages: pyspark\n",
            "  Building wheel for pyspark (setup.py) ... \u001b[?25l\u001b[?25hdone\n",
            "  Created wheel for pyspark: filename=pyspark-3.5.1-py2.py3-none-any.whl size=317488491 sha256=e21b7a751cfa1ef0e4bdb289aeeb3b341da8c9868632f63e840c107e72f31aa5\n",
            "  Stored in directory: /root/.cache/pip/wheels/80/1d/60/2c256ed38dddce2fdd93be545214a63e02fbd8d74fb0b7f3a6\n",
            "Successfully built pyspark\n",
            "Installing collected packages: pyspark\n",
            "Successfully installed pyspark-3.5.1\n",
            "Requirement already satisfied: py4j in /usr/local/lib/python3.10/dist-packages (0.10.9.7)\n"
          ]
        }
      ],
      "source": [
        "!sudo apt update\n",
        "!apt-get install openjdk-8-jdk-headless -qq > /dev/null\n",
        "#Check this site for the latest download link https://www.apache.org/dyn/closer.lua/spark/spark-3.2.1/spark-3.2.1-bin-hadoop3.2.tgz\n",
        "!wget -q https://dlcdn.apache.org/spark/spark-3.2.1/spark-3.2.1-bin-hadoop3.2.tgz\n",
        "!tar xf spark-3.2.1-bin-hadoop3.2.tgz\n",
        "!pip install -q findspark\n",
        "!pip install pyspark\n",
        "!pip install py4j\n",
        "\n",
        "import os\n",
        "import sys\n",
        "# os.environ[\"JAVA_HOME\"] = \"/usr/lib/jvm/java-8-openjdk-amd64\"\n",
        "# os.environ[\"SPARK_HOME\"] = \"/content/spark-3.2.1-bin-hadoop3.2\"\n",
        "\n",
        "\n",
        "import findspark\n",
        "findspark.init()\n",
        "findspark.find()\n",
        "\n",
        "import pyspark\n",
        "\n",
        "from pyspark.sql import DataFrame, SparkSession\n",
        "from typing import List\n",
        "import pyspark.sql.types as T\n",
        "import pyspark.sql.functions as F\n",
        "\n",
        "spark = SparkSession \\\n",
        "       .builder \\\n",
        "       .appName(\"data processing experiment\") \\\n",
        "       .getOrCreate()"
      ]
    },
    {
      "cell_type": "code",
      "source": [
        "from pyspark.sql.functions import col\n",
        "\n",
        "seed = 4"
      ],
      "metadata": {
        "id": "nU9Ekhu6uN7a"
      },
      "execution_count": null,
      "outputs": []
    },
    {
      "cell_type": "markdown",
      "source": [
        "## Utility function to load data from CSV"
      ],
      "metadata": {
        "id": "a9AestLyuieI"
      }
    },
    {
      "cell_type": "code",
      "source": [
        "from pyspark.sql.functions import *;\n",
        "from pyspark.sql.types import *;\n",
        "\n",
        "def load(file_location):\n",
        "    file_type = \"csv\"\n",
        "\n",
        "    # CSV options\n",
        "    infer_schema = \"true\"\n",
        "    first_row_is_header = \"true\"\n",
        "    delimiter = \",\"\n",
        "\n",
        "    # The applied options are for CSV files. For other file types, these will be ignored.\n",
        "    df = spark.read.format(file_type) \\\n",
        "    .option(\"inferSchema\", infer_schema) \\\n",
        "    .option(\"header\", first_row_is_header) \\\n",
        "    .option(\"sep\", delimiter) \\\n",
        "    .load(file_location)\n",
        "\n",
        "    return df"
      ],
      "metadata": {
        "id": "6slag14Zuhry"
      },
      "execution_count": null,
      "outputs": []
    },
    {
      "cell_type": "markdown",
      "source": [
        "## Source the data from git"
      ],
      "metadata": {
        "id": "nUw8roIvunAC"
      }
    },
    {
      "cell_type": "code",
      "source": [
        "%%shell\n",
        "\n",
        "if [ ! -d \"/tmp/data\" ]; then\n",
        "  echo \"Cloning data\"\n",
        "  git clone https://github.com/prule/data.git /tmp/data\n",
        "else\n",
        "  echo \"Pulling data\"\n",
        "  cd /tmp/data && git pull\n",
        "fi"
      ],
      "metadata": {
        "colab": {
          "base_uri": "https://localhost:8080/"
        },
        "id": "GcA5MNBXuqao",
        "outputId": "dbff8ad6-86eb-49ac-f193-841a0570b286"
      },
      "execution_count": null,
      "outputs": [
        {
          "output_type": "stream",
          "name": "stdout",
          "text": [
            "Cloning data\n",
            "Cloning into '/tmp/data'...\n",
            "remote: Enumerating objects: 62, done.\u001b[K\n",
            "remote: Counting objects: 100% (62/62), done.\u001b[K\n",
            "remote: Compressing objects: 100% (44/44), done.\u001b[K\n",
            "remote: Total 62 (delta 14), reused 51 (delta 3), pack-reused 0\u001b[K\n",
            "Receiving objects: 100% (62/62), 6.86 KiB | 6.86 MiB/s, done.\n",
            "Resolving deltas: 100% (14/14), done.\n"
          ]
        },
        {
          "output_type": "execute_result",
          "data": {
            "text/plain": []
          },
          "metadata": {},
          "execution_count": 4
        }
      ]
    },
    {
      "cell_type": "code",
      "source": [
        "# generate large dataset\n",
        "%%shell\n",
        "cd /tmp/data/ && ./run sample4:generate"
      ],
      "metadata": {
        "colab": {
          "base_uri": "https://localhost:8080/"
        },
        "id": "uT3Zf5kYwpen",
        "outputId": "eef8534c-7ef1-4d3e-b03f-befeb15fa591"
      },
      "execution_count": null,
      "outputs": [
        {
          "output_type": "stream",
          "name": "stdout",
          "text": [
            "\n",
            "Generating large data\n",
            "\n"
          ]
        },
        {
          "output_type": "execute_result",
          "data": {
            "text/plain": []
          },
          "metadata": {},
          "execution_count": 5
        }
      ]
    },
    {
      "cell_type": "code",
      "source": [
        "# print number of files in directory\n",
        "import os\n",
        "print (len(os.listdir(\"/tmp/data/sample4/large/\")))"
      ],
      "metadata": {
        "colab": {
          "base_uri": "https://localhost:8080/"
        },
        "id": "5gM_ADNmu-FF",
        "outputId": "4d8e8dce-d052-4fae-d69d-d4f14a313107"
      },
      "execution_count": null,
      "outputs": [
        {
          "output_type": "stream",
          "name": "stdout",
          "text": [
            "1000\n"
          ]
        }
      ]
    },
    {
      "cell_type": "code",
      "source": [
        "raw = load(\"file:/tmp/data/sample4/large/\")\n",
        "raw.count()"
      ],
      "metadata": {
        "colab": {
          "base_uri": "https://localhost:8080/"
        },
        "id": "QJ-vKxSFz85z",
        "outputId": "3f7fab13-650b-4b56-c784-2538b8a19176"
      },
      "execution_count": null,
      "outputs": [
        {
          "output_type": "execute_result",
          "data": {
            "text/plain": [
              "180000"
            ]
          },
          "metadata": {},
          "execution_count": 34
        }
      ]
    },
    {
      "cell_type": "markdown",
      "source": [
        "The raw data has 180,000 rows - our aim here is to produce a smaller dataset of 40,000 rows, but with the same proportions of the 4 combinations of sex and status."
      ],
      "metadata": {
        "id": "XgBpocYa64B6"
      }
    },
    {
      "cell_type": "markdown",
      "source": [
        "## Show distribution of data by sex and status"
      ],
      "metadata": {
        "id": "fl9i8tL10Dt0"
      }
    },
    {
      "cell_type": "code",
      "source": [
        "rawProportions = raw.groupBy(\"sex\",\"status\").count() \\\n",
        "  .withColumn(\"proportion\", col('count')/raw.count()) \\\n",
        "  .withColumn(\"label\", concat(col('sex'), lit(\"|\"), col('status'))) \\\n",
        "  .orderBy(\"sex\",\"status\")\n",
        "rawProportions.show()"
      ],
      "metadata": {
        "colab": {
          "base_uri": "https://localhost:8080/"
        },
        "id": "ydKuMCjs0GaG",
        "outputId": "9d4fbbb4-d81e-4faf-fc78-551eb77b7dde"
      },
      "execution_count": null,
      "outputs": [
        {
          "output_type": "stream",
          "name": "stdout",
          "text": [
            "+------+---------+-----+----------+----------------+\n",
            "|   sex|   status|count|proportion|           label|\n",
            "+------+---------+-----+----------+----------------+\n",
            "|Female|Full-time| 9000|      0.05|Female|Full-time|\n",
            "|Female|Part-time|63000|      0.35|Female|Part-time|\n",
            "|  Male|Full-time|90000|       0.5|  Male|Full-time|\n",
            "|  Male|Part-time|18000|       0.1|  Male|Part-time|\n",
            "+------+---------+-----+----------+----------------+\n",
            "\n"
          ]
        }
      ]
    },
    {
      "cell_type": "code",
      "source": [
        "values = rawProportions.toPandas()\n",
        "values.plot(kind='pie', y='proportion', labels=values['label'])\n"
      ],
      "metadata": {
        "colab": {
          "base_uri": "https://localhost:8080/",
          "height": 423
        },
        "id": "IaecPFXQ10Eo",
        "outputId": "6a748fb7-bb12-4f25-d10d-ec2b3445fb19"
      },
      "execution_count": null,
      "outputs": [
        {
          "output_type": "execute_result",
          "data": {
            "text/plain": [
              "<Axes: ylabel='proportion'>"
            ]
          },
          "metadata": {},
          "execution_count": 27
        },
        {
          "output_type": "display_data",
          "data": {
            "text/plain": [
              "<Figure size 640x480 with 1 Axes>"
            ],
            "image/png": "[encoded data removed]"
          },
          "metadata": {}
        }
      ]
    },
    {
      "cell_type": "markdown",
      "source": [
        "## Transform the data\n",
        "I'm not sure how to sample the data by multiple columns, so to make it simple I'll add a column which is the concatenation of sex and status. Then I can just sample by that column."
      ],
      "metadata": {
        "id": "1MgP30Q85pc0"
      }
    },
    {
      "cell_type": "code",
      "source": [
        "transformed = raw.withColumn( \\\n",
        "    'sample_by', \\\n",
        "    concat( \\\n",
        "        col(\"sex\"), \\\n",
        "        lit(\"|\"), \\\n",
        "        col(\"status\") \\\n",
        "    ) \\\n",
        ")\n",
        "\n",
        "transformed.head(5)"
      ],
      "metadata": {
        "colab": {
          "base_uri": "https://localhost:8080/"
        },
        "id": "amm9p12U5sG7",
        "outputId": "5c080844-da40-40a9-b827-45f85ad89efb"
      },
      "execution_count": null,
      "outputs": [
        {
          "output_type": "execute_result",
          "data": {
            "text/plain": [
              "[Row(Sex='Male', Status='Full-time', Id=1, sample_by='Male|Full-time'),\n",
              " Row(Sex='Male', Status='Full-time', Id=2, sample_by='Male|Full-time'),\n",
              " Row(Sex='Male', Status='Full-time', Id=3, sample_by='Male|Full-time'),\n",
              " Row(Sex='Male', Status='Full-time', Id=4, sample_by='Male|Full-time'),\n",
              " Row(Sex='Male', Status='Full-time', Id=5, sample_by='Male|Full-time')]"
            ]
          },
          "metadata": {},
          "execution_count": 28
        }
      ]
    },
    {
      "cell_type": "markdown",
      "source": [
        "Calculate the proportions for each segment\n",
        "If we have 180 rows and we want to reduce that to 40 we need to sample 40/180 = approx 22%.\n",
        "\n",
        "And we want to take equal proportions of each segment (in this example) so the sample proportions will match the original data.\n",
        "```\n",
        " {\n",
        "     'Male|Full-time':0.22,\n",
        "     'Male|Part-time':0.22,\n",
        "     'Female|Full-time':0.22,\n",
        "     'Female|Part-time':0.22\n",
        " }\n",
        " ```"
      ],
      "metadata": {
        "id": "VS1TiXaw583H"
      }
    },
    {
      "cell_type": "code",
      "source": [
        "fractions = transformed.select(\"sample_by\") \\\n",
        "  .distinct() \\\n",
        "  .withColumn(\"fraction\", lit(.22)) \\\n",
        "  .rdd.collectAsMap()\n",
        "print(fractions)"
      ],
      "metadata": {
        "colab": {
          "base_uri": "https://localhost:8080/"
        },
        "id": "OBWUw7pa6ERv",
        "outputId": "bc827c16-cd2f-49b2-97b5-f4393b4ef6b1"
      },
      "execution_count": null,
      "outputs": [
        {
          "output_type": "stream",
          "name": "stdout",
          "text": [
            "{'Male|Full-time': 0.22, 'Female|Part-time': 0.22, 'Female|Full-time': 0.22, 'Male|Part-time': 0.22}\n"
          ]
        }
      ]
    },
    {
      "cell_type": "markdown",
      "source": [
        "## Perform the sampling"
      ],
      "metadata": {
        "id": "JQn4CKHN6Kg3"
      }
    },
    {
      "cell_type": "code",
      "source": [
        "sample = transformed.stat.sampleBy( \\\n",
        "  col=\"sample_by\", \\\n",
        "  fractions=fractions, \\\n",
        "  seed=12 \\\n",
        ")\n",
        "\n",
        "sample.count()"
      ],
      "metadata": {
        "colab": {
          "base_uri": "https://localhost:8080/"
        },
        "id": "JQwRd4uu6OD0",
        "outputId": "c0148545-955c-471d-fbe3-06e5c83b5673"
      },
      "execution_count": null,
      "outputs": [
        {
          "output_type": "execute_result",
          "data": {
            "text/plain": [
              "39631"
            ]
          },
          "metadata": {},
          "execution_count": 33
        }
      ]
    },
    {
      "cell_type": "markdown",
      "source": [
        "We now have approximately 40,000 rows."
      ],
      "metadata": {
        "id": "3-1YbysJ7JrF"
      }
    },
    {
      "cell_type": "markdown",
      "source": [
        "## Look at the proportions for the sample"
      ],
      "metadata": {
        "id": "vReOMIUJ6Q55"
      }
    },
    {
      "cell_type": "code",
      "source": [
        "sampledProportions = sample \\\n",
        "    .groupBy(\"sex\",\"status\") \\\n",
        "    .count() \\\n",
        "    .withColumn(\"proportion\", (col('count')/sample.count()).cast(DecimalType(10,2))) \\\n",
        "    .orderBy(\"sex\",\"status\")\n",
        "\n",
        "sampledProportions.show()"
      ],
      "metadata": {
        "colab": {
          "base_uri": "https://localhost:8080/"
        },
        "id": "Vux-0K0R6S-g",
        "outputId": "1f9d5e5d-1cd8-4a64-8fe1-c4609ed580cd"
      },
      "execution_count": null,
      "outputs": [
        {
          "output_type": "stream",
          "name": "stdout",
          "text": [
            "+------+---------+-----+----------+\n",
            "|   sex|   status|count|proportion|\n",
            "+------+---------+-----+----------+\n",
            "|Female|Full-time| 1907|      0.05|\n",
            "|Female|Part-time|13904|      0.35|\n",
            "|  Male|Full-time|19911|      0.50|\n",
            "|  Male|Part-time| 3909|      0.10|\n",
            "+------+---------+-----+----------+\n",
            "\n"
          ]
        }
      ]
    },
    {
      "cell_type": "markdown",
      "source": [
        "And the proportions of each combination of sex and status is the same as the original data."
      ],
      "metadata": {
        "id": "ImZdmfuE7Oc-"
      }
    },
    {
      "cell_type": "markdown",
      "source": [
        "Lets look at what happens with a random sampling..."
      ],
      "metadata": {
        "id": "mA59EhCR7bwo"
      }
    },
    {
      "cell_type": "code",
      "source": [
        "raw.sample(fraction=0.22, seed=12).groupBy(\"sex\",\"status\") \\\n",
        "    .count() \\\n",
        "    .withColumn(\"proportion\", (col('count')/sample.count()).cast(DecimalType(10,2))) \\\n",
        "    .orderBy(\"sex\",\"status\") \\\n",
        "    .show()"
      ],
      "metadata": {
        "colab": {
          "base_uri": "https://localhost:8080/"
        },
        "id": "Y7jwL9N96n93",
        "outputId": "cd0de805-8103-4b42-f1ac-c547fd629527"
      },
      "execution_count": null,
      "outputs": [
        {
          "output_type": "stream",
          "name": "stdout",
          "text": [
            "+------+---------+-----+----------+\n",
            "|   sex|   status|count|proportion|\n",
            "+------+---------+-----+----------+\n",
            "|Female|Full-time| 1907|      0.05|\n",
            "|Female|Part-time|13904|      0.35|\n",
            "|  Male|Full-time|19911|      0.50|\n",
            "|  Male|Part-time| 3909|      0.10|\n",
            "+------+---------+-----+----------+\n",
            "\n"
          ]
        }
      ]
    },
    {
      "cell_type": "markdown",
      "source": [
        "It's exactly the same! No point in all that complexity in this example. Perhaps if we wanted to CHANGE the proportions (use unequal fractions) then we could do it that way. (Perhaps for manufacturing some sample data?)"
      ],
      "metadata": {
        "id": "NhqYiTx68S-i"
      }
    },
    {
      "cell_type": "markdown",
      "source": [
        "If we use a small dataset we can see the proportions are close to expected but not quite exact - that is, the bigger the dataset the more accurate the proportions will be."
      ],
      "metadata": {
        "id": "O0o_rja29FQM"
      }
    },
    {
      "cell_type": "code",
      "source": [
        "small = load(\"file:/tmp/data/sample4/small/\")\n",
        "small.groupBy(\"sex\",\"status\") \\\n",
        "    .count() \\\n",
        "    .withColumn(\"proportion\", (col('count')/small.count()).cast(DecimalType(10,2))) \\\n",
        "    .orderBy(\"sex\",\"status\") \\\n",
        "    .show()\n",
        "\n",
        "smallSample = small.sample(fraction=0.22, seed=12)\n",
        "\n",
        "smallSample.groupBy(\"sex\",\"status\") \\\n",
        "    .count() \\\n",
        "    .withColumn(\"proportion\", (col('count')/smallSample.count()).cast(DecimalType(10,2))) \\\n",
        "    .orderBy(\"sex\",\"status\") \\\n",
        "    .show()"
      ],
      "metadata": {
        "colab": {
          "base_uri": "https://localhost:8080/"
        },
        "id": "6iUwoDBn8hfa",
        "outputId": "3fe5e7ab-4d09-40ff-cdc9-9a98382f9f74"
      },
      "execution_count": null,
      "outputs": [
        {
          "output_type": "stream",
          "name": "stdout",
          "text": [
            "+------+---------+-----+----------+\n",
            "|   sex|   status|count|proportion|\n",
            "+------+---------+-----+----------+\n",
            "|Female|Full-time|    9|      0.05|\n",
            "|Female|Part-time|   63|      0.35|\n",
            "|  Male|Full-time|   90|      0.50|\n",
            "|  Male|Part-time|   18|      0.10|\n",
            "+------+---------+-----+----------+\n",
            "\n",
            "+------+---------+-----+----------+\n",
            "|   sex|   status|count|proportion|\n",
            "+------+---------+-----+----------+\n",
            "|Female|Full-time|    1|      0.02|\n",
            "|Female|Part-time|   14|      0.32|\n",
            "|  Male|Full-time|   24|      0.55|\n",
            "|  Male|Part-time|    5|      0.11|\n",
            "+------+---------+-----+----------+\n",
            "\n"
          ]
        }
      ]
    }
  ]
}