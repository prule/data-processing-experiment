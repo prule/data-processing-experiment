{
 "cells": [
  {
   "cell_type": "markdown",
   "id": "1e1f7a57-d096-45bf-952e-508260c8c622",
   "metadata": {},
   "source": [
    "I want to make sure the framework produced the same result as the original notebook, so here is a comparison of the enriched dataset (where the city column has been calculated) - comparing what the original notebook produced vs the framework."
   ]
  },
  {
   "cell_type": "code",
   "execution_count": 1,
   "id": "b396f5ea-2e6d-43fa-bbbf-0c2a744f1733",
   "metadata": {},
   "outputs": [],
   "source": [
    "import pandas as pd\n",
    "pd.set_option('display.max_rows', None)\n",
    "pd.set_option('display.max_colwidth', None)"
   ]
  },
  {
   "cell_type": "markdown",
   "id": "db2b76fc-ea99-441a-88df-daa1826a90a6",
   "metadata": {},
   "source": [
    "Read the 2 datasets - since they should contain the same data and are sorted the same way the panda indexes should be the same which will allow a direct comparison"
   ]
  },
  {
   "cell_type": "code",
   "execution_count": 2,
   "id": "86be160c-5eff-4f02-af0a-670fd086fad6",
   "metadata": {},
   "outputs": [],
   "source": [
    "customers1 = pd.read_csv('city-values-ref.csv', quotechar='\"', escapechar='\\\\').sort_values(by='address', ascending=False) \n",
    "customers2 = pd.read_csv('city-values-res.csv', quotechar='\"', escapechar='\\\\').sort_values(by='address', ascending=False) "
   ]
  },
  {
   "cell_type": "markdown",
   "id": "850b0322-fd1a-4bb1-b27f-fc5adf465ea8",
   "metadata": {},
   "source": [
    "Reindex to be sure - I'm not really sure how significant this is yet"
   ]
  },
  {
   "cell_type": "code",
   "execution_count": 3,
   "id": "36ca3785-9487-4d92-bbe7-c46e0a1788fc",
   "metadata": {},
   "outputs": [],
   "source": [
    "customers2 = customers2.reindex(customers1.index, fill_value=0)"
   ]
  },
  {
   "cell_type": "markdown",
   "id": "66a2447e-74ad-484b-a947-64b00c85648c",
   "metadata": {},
   "source": [
    "Compare the two datasets"
   ]
  },
  {
   "cell_type": "code",
   "execution_count": 4,
   "id": "8769ba41-aeb0-497e-b195-433ed9460b85",
   "metadata": {
    "scrolled": true
   },
   "outputs": [
    {
     "name": "stdout",
     "output_type": "stream",
     "text": [
      "          city            \n",
      "          self       other\n",
      "25053  PRESTON  CANTERBURY\n"
     ]
    }
   ],
   "source": [
    "comparison = customers1.compare(customers2)\n",
    "print(comparison)"
   ]
  },
  {
   "cell_type": "markdown",
   "id": "7adc3c5b-6116-43e9-8f39-d7135192048d",
   "metadata": {},
   "source": [
    "The comparison shows one difference so lets look at it"
   ]
  },
  {
   "cell_type": "code",
   "execution_count": 5,
   "id": "0a8c376d-d0fc-4bb4-930d-46826b857ad2",
   "metadata": {},
   "outputs": [
    {
     "data": {
      "text/plain": [
       "address        FORSTAL HOUSE THE FORSTAL,\\nPRESTON,\\nCANTERBURY,\\nENGLAND,\\nCT3 1DT\n",
       "total_spend                                                                    4100\n",
       "city                                                                        PRESTON\n",
       "Name: 25053, dtype: object"
      ]
     },
     "execution_count": 5,
     "metadata": {},
     "output_type": "execute_result"
    }
   ],
   "source": [
    "customers1.iloc[25053]"
   ]
  },
  {
   "cell_type": "code",
   "execution_count": 6,
   "id": "c5a51cdf-81e6-41eb-ac02-ba1af0410c33",
   "metadata": {},
   "outputs": [
    {
     "data": {
      "text/plain": [
       "address        FORSTAL HOUSE THE FORSTAL,\\nPRESTON,\\nCANTERBURY,\\nENGLAND,\\nCT3 1DT\n",
       "total_spend                                                                    4100\n",
       "city                                                                     CANTERBURY\n",
       "Name: 25053, dtype: object"
      ]
     },
     "execution_count": 6,
     "metadata": {},
     "output_type": "execute_result"
    }
   ],
   "source": [
    "customers2.iloc[25053]"
   ]
  },
  {
   "cell_type": "markdown",
   "id": "745fa2a5-8e22-4076-831e-92abc6403c07",
   "metadata": {},
   "source": [
    "I can see whats happening here - it matches both criteria for Preston and Canterbury so what matters here is how the logic is implemented. When finding a match, does it stop there or continue and use a later match? The order of the data will affect this as well. \n",
    "\n",
    "In this scenario, first match wins:\n",
    "```\n",
    "var calculateValue: UDF1<*, *> = UDF1<String, String> { value ->\n",
    "    for (name in names) {\n",
    "        if (value.contains(\"\\n$name,\")) {\n",
    "            return@UDF1 name\n",
    "        }\n",
    "    }\n",
    "    return@UDF1 other\n",
    "}\n",
    "```\n",
    "\n",
    "And here, last match wins:\n",
    "```\n",
    "var calculateValue: UDF1<*, *> = UDF1<String, String> { value ->\n",
    "    var result: String = other\n",
    "    for (name in names) {\n",
    "        if (value.contains(\"\\n$name,\")) {\n",
    "            result = name\n",
    "        }\n",
    "    }\n",
    "    return@UDF1 result\n",
    "}\n",
    "```\n",
    "\n",
    "Deterministic results are always good, so it would seem reasonable to make sure the data is sorted - this will avoid seemingly random differences as the data updates over time, and the \"first wins\" or \"last wins\" characteristics of the code should be documented for those that want to know.\n",
    "\n",
    "I'll leave this as a future exercise for now.\n"
   ]
  }
 ],
 "metadata": {
  "kernelspec": {
   "display_name": "Python 3 (ipykernel)",
   "language": "python",
   "name": "python3"
  },
  "language_info": {
   "codemirror_mode": {
    "name": "ipython",
    "version": 3
   },
   "file_extension": ".py",
   "mimetype": "text/x-python",
   "name": "python",
   "nbconvert_exporter": "python",
   "pygments_lexer": "ipython3",
   "version": "3.10.12"
  }
 },
 "nbformat": 4,
 "nbformat_minor": 5
}
